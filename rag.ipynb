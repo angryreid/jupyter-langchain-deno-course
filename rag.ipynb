{
 "cells": [
  {
   "cell_type": "markdown",
   "metadata": {},
   "source": [
    "# RAG\n",
    "\n",
    "Retrieval-Augmented Generation (RAG) is a model that combines the strengths of retrieval and generation models. It uses a retriever to find relevant passages and a generator to generate the answer. The retriever is a dense retriever that uses a pre-trained language model to encode the passages and the query. The generator is a pre-trained language model that generates the answer. The retriever and the generator are trained jointly."
   ]
  },
  {
   "cell_type": "markdown",
   "metadata": {},
   "source": [
    "## Process\n",
    "\n",
    "1. The retriever encodes the passages and the query.\n",
    "2. The retriever retrieves the top-k passages.\n",
    "3. The generator generates the answer using the top-k passages and reture results based on conditions.\n",
    "\n",
    "\n",
    "### Load data\n",
    "\n",
    "\n",
    "Add support for loading data from the `datasets` library.\n",
    "\n",
    "### Data Preprocessing\n",
    "\n",
    "The data is preprocessed to remove special characters and convert the text to lowercase.\n",
    "\n",
    "### Embedding\n",
    "\n",
    "The retriever uses a pre-trained language model to encode the passages and the query. The generator uses a pre-trained language model to generate the answer.\n",
    "\n",
    "### Reedtrieval\n",
    "\n",
    "The retriever retrieves the top-k passages using the encoded passages and the query.\n",
    "\n",
    "### Augmented Generation \n",
    "\n",
    "Bae on the retrieved passages, the generator generates the answer.\n"
   ]
  }
 ],
 "metadata": {
  "language_info": {
   "name": "python"
  }
 },
 "nbformat": 4,
 "nbformat_minor": 2
}
