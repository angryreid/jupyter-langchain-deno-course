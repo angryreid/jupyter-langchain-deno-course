{
 "cells": [
  {
   "cell_type": "markdown",
   "metadata": {},
   "source": [
    "# Memory Running Process"
   ]
  },
  {
   "cell_type": "markdown",
   "metadata": {},
   "source": [
    "## ConversationChain\n",
    "\n",
    "Pass a history of conversations to the model and predict the next sentence."
   ]
  },
  {
   "cell_type": "code",
   "execution_count": 4,
   "metadata": {},
   "outputs": [],
   "source": [
    "// import env config\n",
    "\n",
    "import { load } from \"dotenv\";\n",
    "const env = await load();\n",
    "\n",
    "const process = {\n",
    "    env\n",
    "}"
   ]
  },
  {
   "cell_type": "code",
   "execution_count": 5,
   "metadata": {},
   "outputs": [
    {
     "name": "stdout",
     "output_type": "stream",
     "text": [
      "{\n",
      "  response: \"Hello John, it's nice to meet you! How can I assist you today?\"\n",
      "}\n"
     ]
    }
   ],
   "source": [
    "\n",
    "import { ChatOpenAI } from '@langchain/openai'\n",
    "import { BufferMemory } from 'langchain/memory'\n",
    "import { ConversationChain } from 'langchain/chains'\n",
    "\n",
    "const chatModel = new ChatOpenAI()\n",
    "const memory = new BufferMemory()\n",
    "const chain = new ConversationChain({llm: chatModel, memory})\n",
    "const res = await chain.call({input: \"Hello, My name is John\"})\n",
    "\n",
    "console.log(res)\n"
   ]
  },
  {
   "cell_type": "code",
   "execution_count": 6,
   "metadata": {},
   "outputs": [
    {
     "name": "stdout",
     "output_type": "stream",
     "text": [
      "{ response: \"Your name is John.\" }\n"
     ]
    }
   ],
   "source": [
    "const res = await chain.call({input: \"What is my name?\"})\n",
    "\n",
    "console.log(res)"
   ]
  },
  {
   "cell_type": "markdown",
   "metadata": {},
   "source": [
    "## BufferWindowMemory"
   ]
  },
  {
   "cell_type": "code",
   "execution_count": null,
   "metadata": {},
   "outputs": [],
   "source": [
    "import { BufferWindowMemory } from 'langchain/chains'\n",
    "\n",
    "const model = new ChatOpenAI()\n",
    "const memory = new BufferWindowMemory({k: 1})\n",
    "const chain = new ConversationChain({llm: model, memory})"
   ]
  }
 ],
 "metadata": {
  "kernelspec": {
   "display_name": "Deno",
   "language": "typescript",
   "name": "deno"
  },
  "language_info": {
   "codemirror_mode": "typescript",
   "file_extension": ".ts",
   "mimetype": "text/x.typescript",
   "name": "typescript",
   "nbconvert_exporter": "script",
   "pygments_lexer": "typescript",
   "version": "5.4.5"
  }
 },
 "nbformat": 4,
 "nbformat_minor": 2
}
