{
 "cells": [
  {
   "cell_type": "markdown",
   "metadata": {},
   "source": [
    "# Fuction calling"
   ]
  },
  {
   "cell_type": "code",
   "execution_count": 1,
   "metadata": {},
   "outputs": [],
   "source": [
    "import { load } from \"dotenv\";\n",
    "const env = await load();"
   ]
  },
  {
   "cell_type": "code",
   "execution_count": 8,
   "metadata": {},
   "outputs": [],
   "source": [
    "import OpenAI from \"openai\";\n",
    "\n",
    "const openai = new OpenAI({\n",
    "    apiKey: env[\"AZURE_OPENAI_API_KEY\"],\n",
    "    baseURL: `https://${env[\"AZURE_OPENAI_API_INSTANCE_NAME\"]}.openai.azure.com/openai/deployments/${env[\"AZURE_OPENAI_API_DEPLOYMENT_NAME\"]}`,\n",
    "    defaultQuery: { 'api-version':  env[\"AZURE_OPENAI_API_VERSION\"] },\n",
    "    defaultHeaders: { 'api-key': env[\"AZURE_OPENAI_API_KEY\"] },\n",
    "});"
   ]
  },
  {
   "cell_type": "code",
   "execution_count": 2,
   "metadata": {},
   "outputs": [],
   "source": [
    "function getCurrentWeather({ location, unit=\"fahrenheit\"}){\n",
    "    const  weather_info = {\n",
    "         \"location\": location,\n",
    "         \"temperature\": \"72\",\n",
    "         \"unit\": unit,\n",
    "         \"forecast\": [\"sunny\", \"windy\"],\n",
    "     }\n",
    "     return JSON.stringify(weather_info);\n",
    " }"
   ]
  },
  {
   "cell_type": "code",
   "execution_count": 4,
   "metadata": {},
   "outputs": [],
   "source": [
    "\n",
    "/**\n",
    " * @param {string} location - The city and state, e.g. San Francisco, CA\n",
    " * @param {string} unit - The unit of temperature, e.g. celsius or fahrenheit\n",
    " * \n",
    " * @returns {object} The current weather in the given location\n",
    " * \n",
    " */\n",
    "\n",
    "const tools = [\n",
    "    {\n",
    "      type: \"function\",\n",
    "      function: {\n",
    "        name: \"getCurrentWeather\",\n",
    "        description: \"Get the current weather in a given location\",\n",
    "        parameters: {\n",
    "          type: \"object\",\n",
    "          properties: {\n",
    "            location: {\n",
    "              type: \"string\",\n",
    "              description: \"The city and state, e.g. San Francisco, CA\",\n",
    "            },\n",
    "            unit: { type: \"string\", enum: [\"celsius\", \"fahrenheit\"] },\n",
    "          },\n",
    "          required: [\"location\"],\n",
    "        },\n",
    "      },\n",
    "    }\n",
    "]"
   ]
  },
  {
   "cell_type": "code",
   "execution_count": 15,
   "metadata": {},
   "outputs": [
    {
     "name": "stdout",
     "output_type": "stream",
     "text": [
      "{\n",
      "  content_filter_results: {},\n",
      "  finish_reason: \"tool_calls\",\n",
      "  index: 0,\n",
      "  message: {\n",
      "    content: null,\n",
      "    role: \"assistant\",\n",
      "    tool_calls: [\n",
      "      {\n",
      "        function: {\n",
      "          arguments: '{\\n  \"location\": \"北京\"\\n}',\n",
      "          name: \"getCurrentWeather\"\n",
      "        },\n",
      "        id: \"call_PKni9WAnjT3a6h8tWZVUOfHB\",\n",
      "        type: \"function\"\n",
      "      }\n",
      "    ]\n",
      "  }\n",
      "}\n"
     ]
    }
   ],
   "source": [
    "const messages = [\n",
    "    {\n",
    "        \"role\": \"user\",\n",
    "        \"content\": \"北京的天气怎么样\"\n",
    "    }\n",
    "]\n",
    "\n",
    "const result = await openai.chat.completions.create({\n",
    "    model: 'gpt-3.5-turbo',\n",
    "    messages,\n",
    "    tools\n",
    "  });\n",
    "  console.log(result.choices[0]);"
   ]
  },
  {
   "cell_type": "code",
   "execution_count": 14,
   "metadata": {},
   "outputs": [],
   "source": [
    "// const messages = [\n",
    "//     {\n",
    "//         \"role\": \"user\",\n",
    "//         // \"content\": \"北京的天气怎么样\"\n",
    "//         \"content\": \"What's the weather like in Beijing?\"\n",
    "\n",
    "//     }\n",
    "// ]\n",
    "\n",
    "// const result = await openai.chat.completions.create({\n",
    "//     // model: 'gpt-3.5-turbo',\n",
    "//     messages,\n",
    "//     tools\n",
    "//   });\n",
    "\n",
    "\n",
    "//   console.log(result.choices[0]);"
   ]
  },
  {
   "cell_type": "code",
   "execution_count": 16,
   "metadata": {},
   "outputs": [
    {
     "name": "stdout",
     "output_type": "stream",
     "text": [
      "{\n",
      "  content_filter_results: {\n",
      "    hate: { filtered: false, severity: \"safe\" },\n",
      "    self_harm: { filtered: false, severity: \"safe\" },\n",
      "    sexual: { filtered: false, severity: \"safe\" },\n",
      "    violence: { filtered: false, severity: \"safe\" }\n",
      "  },\n",
      "  finish_reason: \"stop\",\n",
      "  index: 0,\n",
      "  message: { content: \"请稍等，我来查一下北京的天气。\", role: \"assistant\" }\n",
      "}\n"
     ]
    }
   ],
   "source": [
    "const messages = [\n",
    "    {\n",
    "        \"role\": \"user\",\n",
    "        \"content\": \"北京的天气怎么样\"\n",
    "    }\n",
    "]\n",
    "\n",
    "const result = await openai.chat.completions.create({\n",
    "    model: 'gpt-3.5-turbo',\n",
    "    messages,\n",
    "    tools,\n",
    "    tool_choice: \"none\"\n",
    "  });\n",
    "  console.log(result.choices[0]);"
   ]
  },
  {
   "cell_type": "code",
   "execution_count": 17,
   "metadata": {},
   "outputs": [
    {
     "name": "stdout",
     "output_type": "stream",
     "text": [
      "{\n",
      "  content_filter_results: {},\n",
      "  finish_reason: \"stop\",\n",
      "  index: 0,\n",
      "  message: {\n",
      "    content: null,\n",
      "    role: \"assistant\",\n",
      "    tool_calls: [\n",
      "      {\n",
      "        function: {\n",
      "          arguments: '{\\n  \"location\": \"北京\"\\n}',\n",
      "          name: \"getCurrentWeather\"\n",
      "        },\n",
      "        id: \"call_p6he7JQ2h1XDHnI4lBhhDT1S\",\n",
      "        type: \"function\"\n",
      "      }\n",
      "    ]\n",
      "  }\n",
      "}\n"
     ]
    }
   ],
   "source": [
    "const messages = [\n",
    "    {\n",
    "        \"role\": \"user\",\n",
    "        \"content\": \"你好\"\n",
    "    }\n",
    "]\n",
    "\n",
    "const result = await openai.chat.completions.create({\n",
    "    model: 'gpt-3.5-turbo',\n",
    "    messages,\n",
    "    tools,\n",
    "    tool_choice: {\n",
    "        type: \"function\",\n",
    "        function: {\n",
    "           name: \"getCurrentWeather\"\n",
    "        }\n",
    "    }\n",
    "  });\n",
    " \n",
    " console.log(result.choices[0]);"
   ]
  },
  {
   "cell_type": "code",
   "execution_count": 18,
   "metadata": {},
   "outputs": [
    {
     "name": "stdout",
     "output_type": "stream",
     "text": [
      "{\"temperature\":\"72\",\"unit\":\"fahrenheit\",\"forecast\":[\"sunny\",\"windy\"]}\n"
     ]
    }
   ],
   "source": [
    "const functions = {\n",
    "    \"getCurrentWeather\": getCurrentWeather\n",
    "  }\n",
    "\n",
    "const functionInfo = result.choices[0].message.tool_calls[0].function\n",
    "const functionName = functionInfo.name;\n",
    "const functionParams = functionInfo.arguments\n",
    "\n",
    "const functionResult = functions[functionName](functionParams);\n",
    "\n",
    "console.log(functionResult);"
   ]
  },
  {
   "cell_type": "markdown",
   "metadata": {},
   "source": [
    "## Concurrence of two functions"
   ]
  },
  {
   "cell_type": "code",
   "execution_count": 19,
   "metadata": {},
   "outputs": [],
   "source": [
    "function getCurrentTime({ format = \"iso\" } = {}) {\n",
    "    let currentTime;\n",
    "    switch (format) {\n",
    "        case \"iso\":\n",
    "            currentTime = new Date().toISOString();\n",
    "            break;\n",
    "        case \"locale\":\n",
    "            currentTime = new Date().toLocaleString();\n",
    "            break;\n",
    "        default:\n",
    "            currentTime = new Date().toString();\n",
    "            break;\n",
    "    }\n",
    "    return currentTime;\n",
    "}\n"
   ]
  },
  {
   "cell_type": "code",
   "execution_count": 27,
   "metadata": {},
   "outputs": [
    {
     "name": "stdout",
     "output_type": "stream",
     "text": [
      "{\n",
      "  content_filter_results: {},\n",
      "  finish_reason: \"tool_calls\",\n",
      "  index: 0,\n",
      "  message: {\n",
      "    content: null,\n",
      "    role: \"assistant\",\n",
      "    tool_calls: [\n",
      "      {\n",
      "        function: {\n",
      "          arguments: '{\\n  \"format\": \"locale\"\\n}',\n",
      "          name: \"getCurrentTime\"\n",
      "        },\n",
      "        id: \"call_EPmyOutP3CKzrNjY3gC2GST2\",\n",
      "        type: \"function\"\n",
      "      }\n",
      "    ]\n",
      "  }\n",
      "}\n"
     ]
    }
   ],
   "source": [
    "const tools = [\n",
    "  {\n",
    "      type: \"function\",\n",
    "      function: {\n",
    "          name: \"getCurrentTime\",\n",
    "          description: \"Get the current time in a given format\",\n",
    "          parameters: {\n",
    "              type: \"object\",\n",
    "              properties: {\n",
    "                  format: {\n",
    "                      type: \"string\",\n",
    "                      enum: [\"iso\", \"locale\", \"string\"],\n",
    "                      description: \"The format of the time, e.g. iso, locale, string\",\n",
    "                  },\n",
    "              },\n",
    "              required: [\"format\"],\n",
    "          },\n",
    "      },\n",
    "  },\n",
    "  {\n",
    "      type: \"function\",\n",
    "      function: {\n",
    "        name: \"getCurrentWeather\",\n",
    "        description: \"Get the current weather in a given location\",\n",
    "        parameters: {\n",
    "          type: \"object\",\n",
    "          properties: {\n",
    "            location: {\n",
    "              type: \"string\",\n",
    "              description: \"The city and state, e.g. San Francisco, CA\",\n",
    "            },\n",
    "            unit: { type: \"string\", enum: [\"celsius\", \"fahrenheit\"] },\n",
    "          },\n",
    "          required: [\"location\", \"unit\"],\n",
    "        },\n",
    "      },\n",
    "  }\n",
    "]\n",
    "\n",
    "const messages = [\n",
    "    {\n",
    "        \"role\": \"user\",\n",
    "        \"content\": \"请同时告诉我当前的时间, 和北京的天气\"\n",
    "    }\n",
    "]\n",
    "\n",
    "const result = await openai.chat.completions.create({\n",
    "     model: 'gpt-3.5-turbo',\n",
    "    messages,\n",
    "    tools,\n",
    "  });\n",
    "\n",
    "\n",
    "console.log(result.choices[0]);"
   ]
  },
  {
   "cell_type": "code",
   "execution_count": 28,
   "metadata": {},
   "outputs": [],
   "source": [
    "const messages = [\n",
    "    { role: \"user\", content: \"北京天气如何?\" },\n",
    "]\n",
    "\n",
    "const result = await openai.chat.completions.create({\n",
    "    model: 'gpt-3.5-turbo',\n",
    "    messages,\n",
    "    tools\n",
    "  });\n"
   ]
  },
  {
   "cell_type": "code",
   "execution_count": 29,
   "metadata": {},
   "outputs": [
    {
     "data": {
      "text/plain": [
       "\u001b[33m3\u001b[39m"
      ]
     },
     "execution_count": 29,
     "metadata": {},
     "output_type": "execute_result"
    }
   ],
   "source": [
    "messages.push(result.choices[0].message)\n",
    "\n",
    "const functions = {\n",
    "    \"getCurrentWeather\": getCurrentWeather\n",
    "  }\n",
    "\n",
    "const cell = result.choices[0].message.tool_calls[0]\n",
    "const functionInfo = cell.function\n",
    "const functionName = functionInfo.name;\n",
    "const functionParams = functionInfo.arguments\n",
    "const functionResult = functions[functionName](functionParams);\n",
    "\n",
    "messages.push({\n",
    "  tool_call_id: cell.id,\n",
    "  role: \"tool\",\n",
    "  name: functionName,\n",
    "  content: functionResult,\n",
    "}); "
   ]
  },
  {
   "cell_type": "code",
   "execution_count": 30,
   "metadata": {},
   "outputs": [
    {
     "name": "stdout",
     "output_type": "stream",
     "text": [
      "[\n",
      "  { role: \"user\", content: \"北京天气如何?\" },\n",
      "  {\n",
      "    content: null,\n",
      "    role: \"assistant\",\n",
      "    tool_calls: [\n",
      "      {\n",
      "        function: {\n",
      "          arguments: '{\\n\"location\": \"北京\",\\n\"unit\": \"celsius\"\\n}',\n",
      "          name: \"getCurrentWeather\"\n",
      "        },\n",
      "        id: \"call_75NK4bW5RsrTWyH74HdQdIMS\",\n",
      "        type: \"function\"\n",
      "      }\n",
      "    ]\n",
      "  },\n",
      "  {\n",
      "    tool_call_id: \"call_75NK4bW5RsrTWyH74HdQdIMS\",\n",
      "    role: \"tool\",\n",
      "    name: \"getCurrentWeather\",\n",
      "    content: '{\"temperature\":\"72\",\"unit\":\"fahrenheit\",\"forecast\":[\"sunny\",\"windy\"]}'\n",
      "  }\n",
      "]\n"
     ]
    }
   ],
   "source": [
    "console.log(messages);"
   ]
  },
  {
   "cell_type": "code",
   "execution_count": 31,
   "metadata": {},
   "outputs": [
    {
     "name": "stdout",
     "output_type": "stream",
     "text": [
      "{ content: \"北京的天气目前是晴天，温度为72华氏度，有风。\", role: \"assistant\" }\n"
     ]
    }
   ],
   "source": [
    "const response = await openai.chat.completions.create({\n",
    "    model: 'gpt-3.5-turbo',\n",
    "    messages,\n",
    "  });\n",
    "  console.log(response.choices[0].message);"
   ]
  }
 ],
 "metadata": {
  "kernelspec": {
   "display_name": "Deno",
   "language": "typescript",
   "name": "deno"
  },
  "language_info": {
   "codemirror_mode": "typescript",
   "file_extension": ".ts",
   "mimetype": "text/x.typescript",
   "name": "typescript",
   "nbconvert_exporter": "script",
   "pygments_lexer": "typescript",
   "version": "5.4.5"
  }
 },
 "nbformat": 4,
 "nbformat_minor": 2
}
