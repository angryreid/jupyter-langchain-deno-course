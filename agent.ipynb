{
 "cells": [
  {
   "cell_type": "markdown",
   "metadata": {},
   "source": [
    "# Agent\n",
    "\n",
    "Agents are autonomous decision-making and execution processes, with the core being the use of llm as a reasoning engine. Based on llm's understanding of tasks and environments, and with various tools provided, they autonomously decide on a series of actions."
   ]
  },
  {
   "cell_type": "code",
   "execution_count": 5,
   "metadata": {},
   "outputs": [],
   "source": [
    "import { load } from \"dotenv\";\n",
    "const env = await load();\n",
    "\n",
    "const process = {\n",
    "    env\n",
    "}"
   ]
  },
  {
   "cell_type": "code",
   "execution_count": 6,
   "metadata": {},
   "outputs": [],
   "source": [
    "import { z } from \"zod\";\n",
    "import { ChatOpenAI } from \"@langchain/openai\";\n",
    "import { JsonOutputToolsParser } from \"@langchain/core/output_parsers/openai_tools\";\n",
    "import { RunnableSequence, RunnableBranch, RunnablePassthrough } from \"@langchain/core/runnables\";\n",
    "import { zodToJsonSchema } from \"zod-to-json-schema\";\n",
    "import { ChatPromptTemplate, PromptTemplate } from \"@langchain/core/prompts\";\n",
    " \n",
    "const classifySchema = z.object({\n",
    "    type: z.enum([\"科普\", \"编程\", \"一般问题\"]).describe(\"用户提问的分类\")\n",
    "})\n",
    "\n",
    "const model = new ChatOpenAI({\n",
    "    temperature: 0 \n",
    "})\n",
    "\n",
    "const modelWithTools = model.bind({\n",
    "    tools: [\n",
    "        {\n",
    "            type: \"function\",\n",
    "            function: {\n",
    "                name: \"classifyQuestion\",\n",
    "                description: \"对用户的提问进行分类\",\n",
    "                parameters: zodToJsonSchema(classifySchema),\n",
    "            }\n",
    "        }\n",
    "    ],\n",
    "    tool_choice: {\n",
    "        type: \"function\",\n",
    "        function: {\n",
    "           name: \"classifyQuestion\"\n",
    "        }\n",
    "    }\n",
    "})\n",
    "\n",
    "const prompt = ChatPromptTemplate.fromMessages([\n",
    "    [\"system\", `仔细思考，你有充足的时间进行严谨的思考，然后对用户的问题进行分类，\n",
    "    当你无法分类到特定分类时，可以分类到 \"一般问题\"`],\n",
    "    [\"human\", \"{input}\"]\n",
    "])\n",
    "\n",
    "const classifyChain = RunnableSequence.from([\n",
    "    prompt,\n",
    "    modelWithTools,\n",
    "    new JsonOutputToolsParser(),\n",
    "    (input) => {\n",
    "        const type = input[0]?.args?.type\n",
    "        return type ? type : \"一般问题\"\n",
    "    }\n",
    "])"
   ]
  },
  {
   "cell_type": "code",
   "execution_count": 7,
   "metadata": {},
   "outputs": [
    {
     "data": {
      "text/plain": [
       "\u001b[32m\"科普\"\u001b[39m"
      ]
     },
     "execution_count": 7,
     "metadata": {},
     "output_type": "execute_result"
    }
   ],
   "source": [
    "await classifyChain.invoke({\n",
    "    \"input\": \"鲸鱼是哺乳动物么？\"\n",
    "})"
   ]
  },
  {
   "cell_type": "code",
   "execution_count": 8,
   "metadata": {},
   "outputs": [],
   "source": [
    "import { StringOutputParser } from \"@langchain/core/output_parsers\";\n",
    "\n",
    "const answeringModel = new ChatOpenAI({\n",
    "    temperature: 0.7,\n",
    "})\n",
    "\n",
    "const sciencePrompt = PromptTemplate.fromTemplate(\n",
    "  `作为一位科普专家，你需要解答以下问题，尽可能提供详细、准确和易于理解的答案：\n",
    "\n",
    "问题：{input}\n",
    "答案：`\n",
    ")\n",
    "    \n",
    "const programmingPrompt = PromptTemplate.fromTemplate(\n",
    "  `作为一位编程专家，你需要解答以下编程相关的问题，尽可能提供详细、准确和实用的答案：\n",
    "\n",
    "问题：{input}\n",
    "答案：`\n",
    ")\n",
    "\n",
    "const generalPrompt = PromptTemplate.fromTemplate(\n",
    "  `请回答以下一般性问题，尽可能提供全面和有深度的答案：\n",
    "\n",
    "问题：{input}\n",
    "答案：`\n",
    ")\n",
    "\n",
    "\n",
    "const scienceChain = RunnableSequence.from([\n",
    "    sciencePrompt,\n",
    "    answeringModel,\n",
    "    new StringOutputParser(),\n",
    "    {\n",
    "        output: input => input,\n",
    "        role: () => \"科普专家\"\n",
    "    }\n",
    "    \n",
    "])\n",
    "\n",
    "const programmingChain = RunnableSequence.from([\n",
    "    programmingPrompt,\n",
    "    answeringModel,\n",
    "    new StringOutputParser(),\n",
    "    {\n",
    "        output: input => input,\n",
    "        role: () => \"编程大师\"\n",
    "    }\n",
    "    \n",
    "])\n",
    "\n",
    "const generalChain = RunnableSequence.from([\n",
    "    generalPrompt,\n",
    "    answeringModel,\n",
    "    new StringOutputParser(),\n",
    "    {\n",
    "        output: input => input,\n",
    "        role: () => \"通识专家\"\n",
    "    }\n",
    "    \n",
    "])"
   ]
  },
  {
   "cell_type": "code",
   "execution_count": 9,
   "metadata": {},
   "outputs": [],
   "source": [
    "const branch = RunnableBranch.from([\n",
    "    [\n",
    "      (input => input.type.includes(\"科普\")),\n",
    "      scienceChain,\n",
    "    ],\n",
    "    [\n",
    "      (input => input.type.includes(\"编程\")),\n",
    "      programmingChain,\n",
    "    ],\n",
    "    generalChain\n",
    "  ]);"
   ]
  },
  {
   "cell_type": "code",
   "execution_count": 10,
   "metadata": {},
   "outputs": [],
   "source": [
    "const route = ({ type }) => {\n",
    "    if(type.includes(\"科普\")){\n",
    "        return scienceChain\n",
    "    }else if(type.includes(\"编程\")){\n",
    "        return programmingChain\n",
    "    }\n",
    "\n",
    "    return generalChain\n",
    "}"
   ]
  },
  {
   "cell_type": "code",
   "execution_count": 11,
   "metadata": {},
   "outputs": [],
   "source": [
    "const outputTemplate = PromptTemplate.fromTemplate(\n",
    "    `感谢您的提问，这是来自 {role} 的专业回答：\n",
    "    \n",
    "    {output}\n",
    "    `)\n",
    "    \n",
    "    \n",
    "    const finalChain = RunnableSequence.from([\n",
    "        {\n",
    "            type: classifyChain,\n",
    "            input: input => input.input\n",
    "        },\n",
    "        branch,\n",
    "        (input) => outputTemplate.format(input),\n",
    "    ])"
   ]
  },
  {
   "cell_type": "code",
   "execution_count": 12,
   "metadata": {},
   "outputs": [
    {
     "name": "stdout",
     "output_type": "stream",
     "text": [
      "感谢您的提问，这是来自 科普专家 的专业回答：\n",
      "    \n",
      "    是的，鲸鱼是哺乳动物。哺乳动物是一类具有特殊特征的动物，它们能够产生乳汁喂养幼崽。鲸鱼具有哺乳动物的所有特征，包括体内产生乳汁、具有毛发、体温恒定和直接生育等。鲸鱼的哺乳方式是通过乳头喂养幼崽，使它们得到营养和生长所需的物质。此外，鲸鱼还具有其他哺乳动物的特点，如具有适应水生生活的特殊结构和行为。因此，我们可以确定鲸鱼属于哺乳动物。\n",
      "    \n"
     ]
    }
   ],
   "source": [
    "const res = await finalChain.invoke({\n",
    "    \"input\": \"鲸鱼是哺乳动物么？\"\n",
    "})\n",
    "\n",
    "console.log(res)"
   ]
  }
 ],
 "metadata": {
  "kernelspec": {
   "display_name": "Deno",
   "language": "typescript",
   "name": "deno"
  },
  "language_info": {
   "codemirror_mode": "typescript",
   "file_extension": ".ts",
   "mimetype": "text/x.typescript",
   "name": "typescript",
   "nbconvert_exporter": "script",
   "pygments_lexer": "typescript",
   "version": "5.4.5"
  }
 },
 "nbformat": 4,
 "nbformat_minor": 2
}
