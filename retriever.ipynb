{
 "cells": [
  {
   "cell_type": "markdown",
   "metadata": {},
   "source": [
    "# Retrieve"
   ]
  },
  {
   "cell_type": "code",
   "execution_count": 1,
   "metadata": {},
   "outputs": [],
   "source": [
    "\n",
    "import { load } from 'dotenv'\n",
    "const env = await load()\n",
    "\n",
    "const process = {\n",
    "    env\n",
    "}"
   ]
  },
  {
   "cell_type": "code",
   "execution_count": 5,
   "metadata": {},
   "outputs": [
    {
     "name": "stdout",
     "output_type": "stream",
     "text": [
      "[\n",
      "  Document {\n",
      "    pageContent: \"鲁镇的酒店的格局，是和别处不同的：都是当街一个曲尺形的大柜台，柜里面预备着热水，可以随时温酒。做工的人，傍午傍晚散了工，每每花四文铜钱，买一碗酒，——这是二十多年前的事，现在每碗要涨到十文，——靠柜外\",\n",
      "    metadata: { source: \"data/kong.txt\", loc: { lines: { from: 1, to: 1 } } }\n",
      "  },\n",
      "  Document {\n",
      "    pageContent: \"年前的事，现在每碗要涨到十文，——靠柜外站着，热热的喝了休息；倘肯多花一文，便可以买一碟盐煮笋，或者茴香豆，做下酒物了，如果出到十几文，那就能买一样荤菜，但这些顾客，多是短衣帮，大抵没有这样阔绰。只有\",\n",
      "    metadata: { source: \"data/kong.txt\", loc: { lines: { from: 1, to: 1 } } }\n",
      "  },\n",
      "  Document {\n",
      "    pageContent: \"顾客，多是短衣帮，大抵没有这样阔绰。只有穿长衫的，才踱进店面隔壁的房子里，要酒要菜，慢慢地坐喝。\",\n",
      "    metadata: { source: \"data/kong.txt\", loc: { lines: { from: 1, to: 1 } } }\n",
      "  },\n",
      "  Document {\n",
      "    pageContent: \"我从十二岁起，便在镇口的咸亨酒店里当伙计，掌柜说，我样子太傻，怕侍候不了长衫主顾，就在外面做点事罢。外面的短衣主顾，虽然容易说话，但唠唠叨叨缠夹不清的也很不少。他们往往要亲眼看着黄酒从坛子里舀出，看\",\n",
      "    metadata: { source: \"data/kong.txt\", loc: { lines: { from: 3, to: 3 } } }\n",
      "  },\n",
      "  Document {\n",
      "    pageContent: \"。他们往往要亲眼看着黄酒从坛子里舀出，看过壶子底里有水没有，又亲看将壶子放在热水里，然后放心：在这严重监督下，羼水也很为难。所以过了几天，掌柜又说我干不了这事。幸亏荐头的情面大，辞退不得，便改为专管温\",\n",
      "    metadata: { source: \"data/kong.txt\", loc: { lines: { from: 3, to: 3 } } }\n",
      "  },\n",
      "  Document {\n",
      "    pageContent: \"幸亏荐头的情面大，辞退不得，便改为专管温酒的一种无聊职务了。\",\n",
      "    metadata: { source: \"data/kong.txt\", loc: { lines: { from: 3, to: 3 } } }\n",
      "  },\n",
      "  Document {\n",
      "    pageContent: \"我从此便整天的站在柜台里，专管我的职务。虽然没有什么失职，但总觉得有些单调，有些无聊。掌柜是一副凶脸孔，主顾也没有好声气，教人活泼不得；只有孔乙己到店，才可以笑几声，所以至今还记得。\",\n",
      "    metadata: { source: \"data/kong.txt\", loc: { lines: { from: 5, to: 5 } } }\n",
      "  },\n",
      "  Document {\n",
      "    pageContent: \"孔乙己是站着喝酒而穿长衫的唯一的人。他身材很高大；青白脸色，皱纹间时常夹些伤痕；一部乱蓬蓬的花白的胡子。穿的虽然是长衫，可是又脏又破，似乎十多年没有补，也没有洗。他对人说话，总是满口之乎者也，叫人半\",\n",
      "    metadata: { source: \"data/kong.txt\", loc: { lines: { from: 7, to: 7 } } }\n",
      "  },\n",
      "  Document {\n",
      "    pageContent: \"洗。他对人说话，总是满口之乎者也，叫人半懂不懂的。因为他姓孔，别人便从描红纸上的“上大人孔乙己”这半懂不懂的话里，替他取下一个绰号，叫作孔乙己。孔乙己一到店，所有喝酒的人便都看着他笑，有的叫道，“孔乙\",\n",
      "    metadata: { source: \"data/kong.txt\", loc: { lines: { from: 7, to: 7 } } }\n",
      "  },\n",
      "  Document {\n",
      "    pageContent: \"有喝酒的人便都看着他笑，有的叫道，“孔乙己，你脸上又添上新伤疤了！”他不回答，对柜里说，“温两碗酒，要一碟茴香豆。”便排出九文大钱。他们又故意的高声嚷道，“你一定又偷了人家的东西了！”孔乙己睁大眼睛说\",\n",
      "    metadata: { source: \"data/kong.txt\", loc: { lines: { from: 7, to: 7 } } }\n",
      "  },\n",
      "  Document {\n",
      "    pageContent: \"定又偷了人家的东西了！”孔乙己睁大眼睛说，“你怎么这样凭空污人清白……”“什么清白？我前天亲眼见你偷了何家的书，吊着打。”孔乙己便涨红了脸，额上的青筋条条绽出，争辩道，“窃书不能算偷……窃书！……读书\",\n",
      "    metadata: { source: \"data/kong.txt\", loc: { lines: { from: 7, to: 7 } } }\n",
      "  },\n",
      "  Document {\n",
      "    pageContent: \"争辩道，“窃书不能算偷……窃书！……读书人的事，能算偷么？”接连便是难懂的话，什么“君子固穷”，什么“者乎”之类，引得众人都哄笑起来：店内外充满了快活的空气。\",\n",
      "    metadata: { source: \"data/kong.txt\", loc: { lines: { from: 7, to: 7 } } }\n",
      "  },\n",
      "  Document {\n",
      "    pageContent: \"听人家背地里谈论，孔乙己原来也读过书，但终于没有进学，又不会营生；于是愈过愈穷，弄到将要讨饭了。幸而写得一笔好字，便替人家抄抄书，换一碗饭吃。可惜他又有一样坏脾气，便是好喝懒做。坐不到几天，便连人和\",\n",
      "    metadata: { source: \"data/kong.txt\", loc: { lines: { from: 9, to: 9 } } }\n",
      "  },\n",
      "  Document {\n",
      "    pageContent: \"脾气，便是好喝懒做。坐不到几天，便连人和书籍纸张笔砚，一齐失踪。如是几次，叫他抄书的人也没有了。孔乙己没有法，便免不了偶然做些偷窃的事。但他在我们店里，品行却比别人都好，就是从不拖欠；虽然间或没有现钱\",\n",
      "    metadata: { source: \"data/kong.txt\", loc: { lines: { from: 9, to: 9 } } }\n",
      "  },\n",
      "  Document {\n",
      "    pageContent: \"别人都好，就是从不拖欠；虽然间或没有现钱，暂时记在粉板上，但不出一月，定然还清，从粉板上拭去了孔乙己的名字。\",\n",
      "    metadata: { source: \"data/kong.txt\", loc: { lines: { from: 9, to: 9 } } }\n",
      "  },\n",
      "  Document {\n",
      "    pageContent: \"孔乙己喝过半碗酒，涨红的脸色渐渐复了原，旁人便又问道，“孔乙己，你当真认识字么？”孔乙己看着问他的人，显出不屑置辩的神气。他们便接着说道，“你怎的连半个秀才也捞不到呢？”孔乙己立刻显出颓唐不安模样，\",\n",
      "    metadata: { source: \"data/kong.txt\", loc: { lines: { from: 11, to: 11 } } }\n",
      "  },\n",
      "  Document {\n",
      "    pageContent: \"捞不到呢？”孔乙己立刻显出颓唐不安模样，脸上笼上了一层灰色，嘴里说些话；这回可是全是之乎者也之类，一些不懂了。在这时候，众人也都哄笑起来：店内外充满了快活的空气。\",\n",
      "    metadata: { source: \"data/kong.txt\", loc: { lines: { from: 11, to: 11 } } }\n",
      "  },\n",
      "  Document {\n",
      "    pageContent: \"“多乎哉?不多也。”\",\n",
      "    metadata: { source: \"data/kong.txt\", loc: { lines: { from: 13, to: 13 } } }\n",
      "  },\n",
      "  Document {\n",
      "    pageContent: \"有几回，邻居孩子听得笑声，也赶热闹，围住了孔乙己。他便给他们一人一颗。孩子吃完豆，仍然不散，眼睛都望着碟子。孔乙己着了慌，伸开五指将碟子罩住，弯腰下去说道，“不多了，我已经不多了。”直起身又看一看豆\",\n",
      "    metadata: { source: \"data/kong.txt\", loc: { lines: { from: 15, to: 15 } } }\n",
      "  },\n",
      "  Document {\n",
      "    pageContent: \"不多了，我已经不多了。”直起身又看一看豆，自己摇头说，“不多不多！多乎哉？不多也。”于是这一群孩子都在笑声里走散了。\",\n",
      "    metadata: { source: \"data/kong.txt\", loc: { lines: { from: 15, to: 15 } } }\n",
      "  },\n",
      "  Document {\n",
      "    pageContent: \"孔乙己是这样的使人快活，可是没有他，别人也便这么过。\",\n",
      "    metadata: { source: \"data/kong.txt\", loc: { lines: { from: 17, to: 17 } } }\n",
      "  },\n",
      "  Document {\n",
      "    pageContent: \"有一天，大约是中秋前的两三天，掌柜正在慢慢的结账，取下粉板，忽然说，“孔乙己长久没有来了。还欠十九个钱呢！”我才也觉得他的确长久没有来了。一个喝酒的人说道，“他怎么会来？……他打折了腿了。”掌柜说，\",\n",
      "    metadata: { source: \"data/kong.txt\", loc: { lines: { from: 19, to: 19 } } }\n",
      "  },\n",
      "  Document {\n",
      "    pageContent: \"他怎么会来？……他打折了腿了。”掌柜说，“哦！”“他总仍旧是偷。这一回，是自己发昏，竟偷到丁举人家里去了。他家的东西，偷得的吗？”“后来怎么样？”“怎么样？先写服辩，后来是打，打了大半夜，再打折了腿。\",\n",
      "    metadata: { source: \"data/kong.txt\", loc: { lines: { from: 19, to: 19 } } }\n",
      "  },\n",
      "  Document {\n",
      "    pageContent: \"服辩，后来是打，打了大半夜，再打折了腿。”“后来呢？”“后来打折了腿了。”“打折了怎样呢？”“怎样？……谁晓得？许是死了。”掌柜也不再问，仍然慢慢的算他的账。\",\n",
      "    metadata: { source: \"data/kong.txt\", loc: { lines: { from: 19, to: 19 } } }\n",
      "  },\n",
      "  Document {\n",
      "    pageContent: \"中秋过后，秋风是一天凉比一天，看看将近初冬；我整天的靠着火，也须穿上棉袄了。一天的下半天，没有一个顾客，我正合了眼坐着。忽然间听得一个声音，“温一碗酒。”这声音虽然极低，却很耳熟。看时又全没有人。站\",\n",
      "    metadata: { source: \"data/kong.txt\", loc: { lines: { from: 21, to: 21 } } }\n",
      "  },\n",
      "  Document {\n",
      "    pageContent: \"音虽然极低，却很耳熟。看时又全没有人。站起来向外一望，那孔乙己便在柜台下对了门槛坐着。他脸上黑而且瘦，已经不成样子；穿一件破夹袄，盘着两腿，下面垫一个蒲包，用草绳在肩上挂住；见了我，又说道，“温一碗酒\",\n",
      "    metadata: { source: \"data/kong.txt\", loc: { lines: { from: 21, to: 21 } } }\n",
      "  },\n",
      "  Document {\n",
      "    pageContent: \"绳在肩上挂住；见了我，又说道，“温一碗酒。”掌柜也伸出头去，一面说，“孔乙己么？你还欠十九个钱呢！”孔乙己很颓唐的仰面答道，“这……下回还清罢。这一回是现钱，酒要好。”掌柜仍然同平常一样，笑着对他说，\",\n",
      "    metadata: { source: \"data/kong.txt\", loc: { lines: { from: 21, to: 21 } } }\n",
      "  },\n",
      "  Document {\n",
      "    pageContent: \"要好。”掌柜仍然同平常一样，笑着对他说，“孔乙己，你又偷了东西了！”但他这回却不十分分辩，单说了一句“不要取笑！”“取笑？要是不偷，怎么会打断腿？”孔乙己低声说道，“跌断，跌，跌……”他的眼色，很像恳\",\n",
      "    metadata: { source: \"data/kong.txt\", loc: { lines: { from: 21, to: 21 } } }\n",
      "  },\n",
      "  Document {\n",
      "    pageContent: \"道，“跌断，跌，跌……”他的眼色，很像恳求掌柜，不要再提。此时已经聚集了几个人，便和掌柜都笑了。我温了酒，端出去，放在门槛上。他从破衣袋里摸出四文大钱，放在我手里，见他满手是泥，原来他便用这手走来的。\",\n",
      "    metadata: { source: \"data/kong.txt\", loc: { lines: { from: 21, to: 21 } } }\n",
      "  },\n",
      "  Document {\n",
      "    pageContent: \"里，见他满手是泥，原来他便用这手走来的。不一会，他喝完酒，便又在旁人的说笑声中，坐着用这手慢慢走去了。\",\n",
      "    metadata: { source: \"data/kong.txt\", loc: { lines: { from: 21, to: 21 } } }\n",
      "  },\n",
      "  Document {\n",
      "    pageContent: \"自此以后，又长久没有看见孔乙己。到了年关，掌柜取下粉板说，“孔乙己还欠十九个钱呢！”到第二年的端午，又说“孔乙己还欠十九个钱呢！”到中秋可是没有说，再到年关也没有看见他。\",\n",
      "    metadata: { source: \"data/kong.txt\", loc: { lines: { from: 23, to: 23 } } }\n",
      "  },\n",
      "  Document {\n",
      "    pageContent: \"我到现在终于没有见——大约孔乙己的确死了。\",\n",
      "    metadata: { source: \"data/kong.txt\", loc: { lines: { from: 25, to: 25 } } }\n",
      "  }\n",
      "]\n"
     ]
    }
   ],
   "source": [
    "import { TextLoader } from 'langchain/document_loaders/fs/text'\n",
    "import { RecursiveCharacterTextSplitter } from 'langchain/text_splitter'\n",
    "\n",
    "const loader = new TextLoader('data/kong.txt')\n",
    "const docs = await loader.load()\n",
    "\n",
    "const splitter = new RecursiveCharacterTextSplitter({\n",
    "    chunkSize: 100,\n",
    "    chunkOverlap: 20\n",
    "})\n",
    "\n",
    "const splitDocs = await splitter.splitDocuments(docs)\n",
    "\n",
    "console.log(splitDocs)"
   ]
  },
  {
   "cell_type": "code",
   "execution_count": 7,
   "metadata": {},
   "outputs": [],
   "source": [
    "import { OpenAIEmbeddings } from '@langchain/openai'\n",
    "const embeddings = new OpenAIEmbeddings()"
   ]
  },
  {
   "cell_type": "code",
   "execution_count": 9,
   "metadata": {},
   "outputs": [
    {
     "name": "stdout",
     "output_type": "stream",
     "text": [
      "Document {\n",
      "  pageContent: \"鲁镇的酒店的格局，是和别处不同的：都是当街一个曲尺形的大柜台，柜里面预备着热水，可以随时温酒。做工的人，傍午傍晚散了工，每每花四文铜钱，买一碗酒，——这是二十多年前的事，现在每碗要涨到十文，——靠柜外\",\n",
      "  metadata: { source: \"data/kong.txt\", loc: { lines: { from: 1, to: 1 } } }\n",
      "}\n"
     ]
    }
   ],
   "source": [
    "console.log(splitDocs[0])"
   ]
  },
  {
   "cell_type": "code",
   "execution_count": 10,
   "metadata": {},
   "outputs": [
    {
     "name": "stdout",
     "output_type": "stream",
     "text": [
      "[\n",
      "    0.041053332,  -0.026278032,   -0.01042348,   0.010131038, -0.013737827,\n",
      "    -0.03409042,  -0.012728204, -0.0056643295, -0.0068689133, -0.029912673,\n",
      "   -0.009908224,    0.07703766,  -0.041443255,  -0.017086986,  0.023938494,\n",
      "   -0.030274743,  0.0010836032,  -0.018618828,  -0.026723659,   0.04255732,\n",
      "    0.024704413,   0.013278274,  -0.018799864,  0.0060089934,  0.024356268,\n",
      "   0.0037669356,  -0.024300564,  -0.019663265,  -0.009580968,  0.021167254,\n",
      "  0.00012805231,   0.016432473,   0.012004061,   -0.00592892,  -0.02691862,\n",
      "   -0.012714278,    0.03322702,   0.080992594,    0.05522982,  0.012484502,\n",
      "    -0.00571307,  0.0062596584,  -0.023604274,  -0.038379572,  -0.00490189,\n",
      "    -0.06745669, -0.0021463179, -0.0004356172,  0.0040176003, 0.0033126057,\n",
      "   -0.014315748,  -0.018493496,   0.017435133,   -0.03863024,  0.023075093,\n",
      "   -0.005218703,  -0.015053817,    0.05194333,   0.004981964, -0.020596296,\n",
      "    -0.00523611,  -0.035037376,   -0.02761491,  -0.022838352,  -0.02084696,\n",
      "    0.015388036,  -0.008494753,    0.01444108,  0.0023465015, -0.007882017,\n",
      "   -0.015555146,    0.05943542,   0.035733666,   0.030581111,   0.01152362,\n",
      "    0.009601857,    0.02441197,  -0.060828004,    0.06456012, 0.0036416033,\n",
      "   -0.012164208,     0.0244816,   0.011983172,  -0.020526666,  0.005302258,\n",
      "    0.030469704,   -0.07068749,  -0.027865576,   0.042640876, 0.0066739516,\n",
      "    0.028102314,  -0.019370822,  -0.028910013,  0.0030184225, -0.017671872,\n",
      "    0.014315748,   -0.02968986, -0.0039166384,   -0.01190658, 0.0026807212,\n",
      "  ... 2972 more items\n",
      "]\n"
     ]
    }
   ],
   "source": [
    "const res = await embeddings.embedQuery(splitDocs[0].pageContent)\n",
    "console.log(res)"
   ]
  },
  {
   "cell_type": "markdown",
   "metadata": {},
   "source": [
    "## Memory Vector Store\n",
    "\n",
    "Vector store is a data structure that stores vectors in a memory-efficient way. It is used in many machine learning algorithms, such as word2vec, doc2vec, etc. In this problem, you are asked to implement a vector store that supports the following operations:\n",
    "\n",
    "OpenAI provides a memory vector store that supports to store vectors and retrieve the most similar vectors to a given vector. "
   ]
  },
  {
   "cell_type": "code",
   "execution_count": 14,
   "metadata": {},
   "outputs": [],
   "source": [
    "import { MemoryVectorStore } from 'langchain/vectorstores/memory'\n",
    "const vectorStore = new MemoryVectorStore(embeddings)\n",
    "\n",
    "await vectorStore.addDocuments(splitDocs)"
   ]
  },
  {
   "cell_type": "code",
   "execution_count": 15,
   "metadata": {},
   "outputs": [
    {
     "name": "stdout",
     "output_type": "stream",
     "text": [
      "[\n",
      "  Document {\n",
      "    pageContent: \"有几回，邻居孩子听得笑声，也赶热闹，围住了孔乙己。他便给他们一人一颗。孩子吃完豆，仍然不散，眼睛都望着碟子。孔乙己着了慌，伸开五指将碟子罩住，弯腰下去说道，“不多了，我已经不多了。”直起身又看一看豆\",\n",
      "    metadata: { source: \"data/kong.txt\", loc: { lines: { from: 15, to: 15 } } }\n",
      "  },\n",
      "  Document {\n",
      "    pageContent: \"不多了，我已经不多了。”直起身又看一看豆，自己摇头说，“不多不多！多乎哉？不多也。”于是这一群孩子都在笑声里走散了。\",\n",
      "    metadata: { source: \"data/kong.txt\", loc: { lines: { from: 15, to: 15 } } }\n",
      "  }\n",
      "]\n"
     ]
    }
   ],
   "source": [
    "// Use retrieval to find similar documents\n",
    "\n",
    "const retriever = vectorStore.asRetriever(2) // return top 2 results\n",
    "\n",
    "const res = await retriever.invoke('茴香豆的作用是什么？')\n",
    "\n",
    "console.log(res)"
   ]
  },
  {
   "cell_type": "code",
   "execution_count": 17,
   "metadata": {},
   "outputs": [
    {
     "name": "stdout",
     "output_type": "stream",
     "text": [
      "[\n",
      "  Document {\n",
      "    pageContent: \"孔乙己是站着喝酒而穿长衫的唯一的人。他身材很高大；青白脸色，皱纹间时常夹些伤痕；一部乱蓬蓬的花白的胡子。穿的虽然是长衫，可是又脏又破，似乎十多年没有补，也没有洗。他对人说话，总是满口之乎者也，叫人半\",\n",
      "    metadata: { source: \"data/kong.txt\", loc: { lines: { from: 7, to: 7 } } }\n",
      "  },\n",
      "  Document {\n",
      "    pageContent: \"孔乙己是这样的使人快活，可是没有他，别人也便这么过。\",\n",
      "    metadata: { source: \"data/kong.txt\", loc: { lines: { from: 17, to: 17 } } }\n",
      "  }\n",
      "]\n"
     ]
    }
   ],
   "source": [
    "const res = await retriever.invoke('孔乙己是谁？')\n",
    "\n",
    "console.log(res)"
   ]
  },
  {
   "cell_type": "markdown",
   "metadata": {},
   "source": [
    "## Multi Query Retriever\n",
    "\n",
    "The multi query retriever is a system that retrieves the most similar vectors to a given query vector. The system is implemented using a memory vector store. \n",
    "\n",
    "> To solve the disadavantages of LLM is to import more LLM."
   ]
  },
  {
   "cell_type": "code",
   "execution_count": null,
   "metadata": {},
   "outputs": [],
   "source": [
    "const directory = 'db/kongyiji'\n",
    "const embeddings = new OpenAIEmbeddings()\n",
    "const vectorStore = new MemoryVectorStore(embeddings)"
   ]
  }
 ],
 "metadata": {
  "kernelspec": {
   "display_name": "Deno",
   "language": "typescript",
   "name": "deno"
  },
  "language_info": {
   "codemirror_mode": "typescript",
   "file_extension": ".ts",
   "mimetype": "text/x.typescript",
   "name": "typescript",
   "nbconvert_exporter": "script",
   "pygments_lexer": "typescript",
   "version": "5.4.5"
  }
 },
 "nbformat": 4,
 "nbformat_minor": 2
}
