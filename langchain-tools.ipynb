{
 "cells": [
  {
   "cell_type": "markdown",
   "metadata": {},
   "source": [
    "# Langchain Tools"
   ]
  },
  {
   "cell_type": "code",
   "execution_count": 11,
   "metadata": {},
   "outputs": [
    {
     "data": {
      "text/plain": [
       "\u001b[32m\"Hello, Zod!\"\u001b[39m"
      ]
     },
     "execution_count": 11,
     "metadata": {},
     "output_type": "execute_result"
    }
   ],
   "source": [
    "import { z } from \"zod\";\n",
    "\n",
    "const stringSchema = z.string();\n",
    "stringSchema.parse(\"Hello, Zod!\");"
   ]
  },
  {
   "cell_type": "code",
   "execution_count": 12,
   "metadata": {},
   "outputs": [],
   "source": [
    "// stringSchema.parse(2323); // typo checking faild"
   ]
  },
  {
   "cell_type": "code",
   "execution_count": 13,
   "metadata": {},
   "outputs": [
    {
     "data": {
      "text/plain": [
       "\u001b[33m42\u001b[39m"
      ]
     },
     "execution_count": 13,
     "metadata": {},
     "output_type": "execute_result"
    }
   ],
   "source": [
    "// define a schema for an object\n",
    "\n",
    "// 基础类型\n",
    "const stringSchema = z.string();\n",
    "const numberSchema = z.number();\n",
    "const booleanSchema = z.boolean();\n",
    "\n",
    "// 数组\n",
    "const stringArraySchema = z.array(z.string());\n",
    "stringArraySchema.parse([\"apple\", \"banana\", \"cherry\"]); \n",
    "\n",
    "// 对象\n",
    "const personSchema = z.object({\n",
    "  name: z.string(),\n",
    "  age: z.number(),\n",
    "  // 可选类型\n",
    "  isStudent: z.boolean().optional(),\n",
    "  // 默认值\n",
    "  home: z.string().default(\"no home\")\n",
    "});\n",
    "\n",
    "// 联合类型\n",
    "const mixedTypeSchema = z.union([z.string(), z.number()]);\n",
    "mixedTypeSchema.parse(\"hello\"); \n",
    "mixedTypeSchema.parse(42); "
   ]
  },
  {
   "cell_type": "code",
   "execution_count": 14,
   "metadata": {},
   "outputs": [],
   "source": [
    "const getCurrentWeatherSchema = z.object({\n",
    "    location: z.string().describe(\"The city and state, e.g. San Francisco, CA\"),\n",
    "    unit: z.enum([\"celsius\", \"fahrenheit\"]).describe(\"The unit of temperature\"),\n",
    "});"
   ]
  },
  {
   "cell_type": "code",
   "execution_count": 15,
   "metadata": {},
   "outputs": [
    {
     "name": "stdout",
     "output_type": "stream",
     "text": [
      "{\n",
      "  type: \"object\",\n",
      "  properties: {\n",
      "    location: {\n",
      "      type: \"string\",\n",
      "      description: \"The city and state, e.g. San Francisco, CA\"\n",
      "    },\n",
      "    unit: {\n",
      "      type: \"string\",\n",
      "      enum: [ \"celsius\", \"fahrenheit\" ],\n",
      "      description: \"The unit of temperature\"\n",
      "    }\n",
      "  },\n",
      "  required: [ \"location\", \"unit\" ],\n",
      "  additionalProperties: false,\n",
      "  \"$schema\": \"http://json-schema.org/draft-07/schema#\"\n",
      "}\n"
     ]
    }
   ],
   "source": [
    "import { zodToJsonSchema } from \"zod-to-json-schema\";\n",
    "\n",
    "const paramSchema = zodToJsonSchema(getCurrentWeatherSchema)\n",
    "\n",
    "console.log(paramSchema);"
   ]
  },
  {
   "cell_type": "code",
   "execution_count": 16,
   "metadata": {},
   "outputs": [],
   "source": [
    "// JSON Schema for getCurrentWeatherSchema\n",
    "\n",
    "import { load } from \"dotenv\";\n",
    "import OpenAI from \"openai\";\n",
    "\n",
    "const env = await load();\n",
    "\n",
    "const openai = new OpenAI({\n",
    "    apiKey: env[\"AZURE_OPENAI_API_KEY\"],\n",
    "    baseURL: `https://${env[\"AZURE_OPENAI_API_INSTANCE_NAME\"]}.openai.azure.com/openai/deployments/${env[\"AZURE_OPENAI_API_DEPLOYMENT_NAME\"]}`,\n",
    "    defaultQuery: { 'api-version':  env[\"AZURE_OPENAI_API_VERSION\"] },\n",
    "    defaultHeaders: { 'api-key': env[\"AZURE_OPENAI_API_KEY\"] },\n",
    "});"
   ]
  },
  {
   "cell_type": "code",
   "execution_count": 17,
   "metadata": {},
   "outputs": [
    {
     "data": {
      "text/plain": [
       "AIMessage {\n",
       "  lc_serializable: \u001b[33mtrue\u001b[39m,\n",
       "  lc_kwargs: {\n",
       "    content: \u001b[32m\"\"\u001b[39m,\n",
       "    additional_kwargs: {\n",
       "      function_call: \u001b[90mundefined\u001b[39m,\n",
       "      tool_calls: [\n",
       "        {\n",
       "          function: \u001b[36m[Object]\u001b[39m,\n",
       "          id: \u001b[32m\"call_v2NwQgM03MQ2q3SA3RN960d1\"\u001b[39m,\n",
       "          type: \u001b[32m\"function\"\u001b[39m\n",
       "        }\n",
       "      ]\n",
       "    },\n",
       "    response_metadata: {}\n",
       "  },\n",
       "  lc_namespace: [ \u001b[32m\"langchain_core\"\u001b[39m, \u001b[32m\"messages\"\u001b[39m ],\n",
       "  content: \u001b[32m\"\"\u001b[39m,\n",
       "  name: \u001b[90mundefined\u001b[39m,\n",
       "  additional_kwargs: {\n",
       "    function_call: \u001b[90mundefined\u001b[39m,\n",
       "    tool_calls: [\n",
       "      {\n",
       "        function: {\n",
       "          arguments: \u001b[32m'{\\n  \"location\": \"Beijing\",\\n  \"unit\": \"celsius\"\\n}'\u001b[39m,\n",
       "          name: \u001b[32m\"getCurrentWeather\"\u001b[39m\n",
       "        },\n",
       "        id: \u001b[32m\"call_v2NwQgM03MQ2q3SA3RN960d1\"\u001b[39m,\n",
       "        type: \u001b[32m\"function\"\u001b[39m\n",
       "      }\n",
       "    ]\n",
       "  },\n",
       "  response_metadata: {\n",
       "    tokenUsage: { completionTokens: \u001b[33m24\u001b[39m, promptTokens: \u001b[33m88\u001b[39m, totalTokens: \u001b[33m112\u001b[39m },\n",
       "    finish_reason: \u001b[32m\"tool_calls\"\u001b[39m\n",
       "  }\n",
       "}"
      ]
     },
     "execution_count": 17,
     "metadata": {},
     "output_type": "execute_result"
    }
   ],
   "source": [
    "import { ChatOpenAI } from '@langchain/openai'\n",
    "\n",
    "const model = new ChatOpenAI({\n",
    "    temperature: 0 \n",
    "})\n",
    "\n",
    "const modelWithTools = model.bind({\n",
    "    tools: [\n",
    "        {\n",
    "            type: \"function\",\n",
    "            function: {\n",
    "                name: \"getCurrentWeather\",\n",
    "                description: \"Get the current weather in a given location\",\n",
    "                parameters: zodToJsonSchema(getCurrentWeatherSchema),\n",
    "            }\n",
    "        }\n",
    "    ]\n",
    "})\n",
    "\n",
    "await modelWithTools.invoke(\"北京的天气怎么样\");"
   ]
  },
  {
   "cell_type": "code",
   "execution_count": 18,
   "metadata": {},
   "outputs": [
    {
     "data": {
      "text/plain": [
       "{\n",
       "  type: \u001b[32m\"object\"\u001b[39m,\n",
       "  properties: {\n",
       "    format: {\n",
       "      type: \u001b[32m\"string\"\u001b[39m,\n",
       "      enum: [ \u001b[32m\"iso\"\u001b[39m, \u001b[32m\"locale\"\u001b[39m, \u001b[32m\"string\"\u001b[39m ],\n",
       "      description: \u001b[32m\"The format of the time, e.g. iso, locale, string\"\u001b[39m\n",
       "    }\n",
       "  },\n",
       "  additionalProperties: \u001b[33mfalse\u001b[39m,\n",
       "  \u001b[32m\"$schema\"\u001b[39m: \u001b[32m\"http://json-schema.org/draft-07/schema#\"\u001b[39m\n",
       "}"
      ]
     },
     "execution_count": 18,
     "metadata": {},
     "output_type": "execute_result"
    }
   ],
   "source": [
    "const getCurrentTimeSchema = z.object({\n",
    "    format: z\n",
    "      .enum([\"iso\", \"locale\", \"string\"])\n",
    "      .optional()\n",
    "      .describe(\"The format of the time, e.g. iso, locale, string\"),\n",
    "  });\n",
    "  \n",
    "  zodToJsonSchema(getCurrentTimeSchema)"
   ]
  },
  {
   "cell_type": "code",
   "execution_count": 19,
   "metadata": {},
   "outputs": [],
   "source": [
    "const model = new ChatOpenAI({\n",
    "    temperature: 0 \n",
    "})\n",
    "\n",
    "const modelWithMultiTools = model.bind({\n",
    "    tools: [\n",
    "        {\n",
    "            type: \"function\",\n",
    "            function: {\n",
    "                name: \"getCurrentWeather\",\n",
    "                description: \"Get the current weather in a given location\",\n",
    "                parameters: zodToJsonSchema(getCurrentWeatherSchema)\n",
    "            }\n",
    "        },\n",
    "        {\n",
    "            type: \"function\",\n",
    "            function: {\n",
    "                name: \"getCurrentTime\",\n",
    "                description: \"Get the current time in a given format\",\n",
    "                parameters: zodToJsonSchema(getCurrentTimeSchema)\n",
    "            }\n",
    "        }\n",
    "    ]\n",
    "})"
   ]
  },
  {
   "cell_type": "markdown",
   "metadata": {},
   "source": [
    "## Control model to call function tools\n",
    "\n",
    "### Tools choices\n",
    "\n",
    "```ts\n",
    "model.bind({\n",
    "    tools: [\n",
    "        ...\n",
    "    ],\n",
    "    tool_choice: \"none\"\n",
    "})\n",
    "\n",
    "```\n",
    "\n",
    "### Tools specification\n",
    "\n",
    "\n",
    "```ts\n",
    "const modelWithForce = model.bind({\n",
    "    tools: [\n",
    "        ...\n",
    "    ],\n",
    "    tool_choice: {\n",
    "        type: \"function\",\n",
    "        function: {\n",
    "           name: \"getCurrentWeather\"\n",
    "        }\n",
    "    }\n",
    "})\n",
    "```"
   ]
  },
  {
   "cell_type": "markdown",
   "metadata": {},
   "source": [
    "## Use tools to mark data"
   ]
  },
  {
   "cell_type": "code",
   "execution_count": 20,
   "metadata": {},
   "outputs": [],
   "source": [
    "const taggingSchema = z.object({\n",
    "    emotion:z.enum([\"pos\", \"neg\", \"neutral\"]).describe(\"文本的情感\"),\n",
    "    language: z.string().describe(\"文本的核心语言（应为ISO 639-1代码）\"),\n",
    "  });"
   ]
  },
  {
   "cell_type": "code",
   "execution_count": 21,
   "metadata": {},
   "outputs": [],
   "source": [
    "const model = new ChatOpenAI({\n",
    "    temperature: 0 \n",
    "})\n",
    "\n",
    "const modelTagging = model.bind({\n",
    "    tools: [\n",
    "        {\n",
    "            type: \"function\",\n",
    "            function: {\n",
    "                name: \"tagging\",\n",
    "                description: \"为特定的文本片段打上标签\",\n",
    "                parameters: zodToJsonSchema(taggingSchema)\n",
    "            }\n",
    "        }\n",
    "    ],\n",
    "    tool_choice: {\n",
    "        type: \"function\",\n",
    "        function: {\n",
    "           name: \"tagging\"\n",
    "        }\n",
    "    }\n",
    "})"
   ]
  },
  {
   "cell_type": "code",
   "execution_count": 22,
   "metadata": {},
   "outputs": [],
   "source": [
    "import { JsonOutputToolsParser } from \"@langchain/core/output_parsers/openai_tools\";\n",
    "// import ChatPromptTemplate\n",
    "import { ChatPromptTemplate } from '@langchain/core/prompts'\n",
    "\n",
    "const prompt = ChatPromptTemplate.fromMessages([\n",
    "    [\"system\", \"仔细思考，你有充足的时间进行严谨的思考，然后按照指示对文本进行标记\"],\n",
    "    [\"human\", \"{input}\"]\n",
    "])\n",
    "\n",
    "const chain = prompt.pipe(modelTagging).pipe(new JsonOutputToolsParser())"
   ]
  },
  {
   "cell_type": "code",
   "execution_count": 23,
   "metadata": {},
   "outputs": [
    {
     "data": {
      "text/plain": [
       "[ { type: \u001b[32m\"tagging\"\u001b[39m, args: { emotion: \u001b[32m\"pos\"\u001b[39m, language: \u001b[32m\"en\"\u001b[39m } } ]"
      ]
     },
     "execution_count": 23,
     "metadata": {},
     "output_type": "execute_result"
    }
   ],
   "source": [
    "await chain.invoke({\n",
    "    input: \"hello world\"\n",
    "})\n",
    "\n",
    "// [ { type: \"tagging\", args: { emotion: \"neutral\", language: \"en\" } } ]\n",
    "\n",
    "await chain.invoke({\n",
    "    input: \"写代码太难了，👴 不干了\"\n",
    "})\n",
    "// [ { type: \"tagging\", args: { emotion: \"neg\", language: \"zh\" } } ]\n",
    "\n",
    "await chain.invoke({\n",
    "    // 日语，圣诞快乐\n",
    "    input: \"メリークリスマス!\"\n",
    "})\n",
    "// [ { type: \"tagging\", args: { emotion: \"pos\", language: \"ja\" } } ]\n",
    "\n",
    "await chain.invoke({\n",
    "    input: \"我非常喜欢 AI，特别是 LLM，因为它非常 powerful\"\n",
    "})\n",
    "// [ { type: \"tagging\", args: { emotion: \"pos\", language: \"zh\" } } ]"
   ]
  },
  {
   "cell_type": "markdown",
   "metadata": {},
   "source": [
    "## Use tools to extract information data"
   ]
  },
  {
   "cell_type": "code",
   "execution_count": 24,
   "metadata": {},
   "outputs": [],
   "source": [
    "const personExtractionSchema = z.object({\n",
    "    name: z.string().describe(\"人的名字\"),\n",
    "    age: z.number().optional().describe(\"人的年龄\")\n",
    "}).describe(\"提取关于一个人的信息\");"
   ]
  },
  {
   "cell_type": "code",
   "execution_count": 25,
   "metadata": {},
   "outputs": [],
   "source": [
    "const relationExtractSchema = z.object({\n",
    "    people: z.array(personExtractionSchema).describe(\"提取所有人\"),\n",
    "    relation: z.string().describe(\"人之间的关系, 尽量简洁\")\n",
    "})"
   ]
  },
  {
   "cell_type": "code",
   "execution_count": 26,
   "metadata": {},
   "outputs": [
    {
     "name": "stdout",
     "output_type": "stream",
     "text": [
      "{\n",
      "  type: \"object\",\n",
      "  properties: {\n",
      "    people: {\n",
      "      type: \"array\",\n",
      "      items: {\n",
      "        type: \"object\",\n",
      "        properties: { name: [Object], age: [Object] },\n",
      "        required: [ \"name\" ],\n",
      "        additionalProperties: false,\n",
      "        description: \"提取关于一个人的信息\"\n",
      "      },\n",
      "      description: \"提取所有人\"\n",
      "    },\n",
      "    relation: { type: \"string\", description: \"人之间的关系, 尽量简洁\" }\n",
      "  },\n",
      "  required: [ \"people\", \"relation\" ],\n",
      "  additionalProperties: false,\n",
      "  \"$schema\": \"http://json-schema.org/draft-07/schema#\"\n",
      "}\n"
     ]
    }
   ],
   "source": [
    "const schema = zodToJsonSchema(relationExtractSchema)\n",
    "\n",
    "console.log(schema)"
   ]
  },
  {
   "cell_type": "code",
   "execution_count": 27,
   "metadata": {},
   "outputs": [],
   "source": [
    "const model = new ChatOpenAI({\n",
    "    temperature: 0 \n",
    "})\n",
    "\n",
    "const modelExtract = model.bind({\n",
    "    tools: [\n",
    "        {\n",
    "            type: \"function\",\n",
    "            function: {\n",
    "                name: \"relationExtract\",\n",
    "                description: \"提取数据中人的信息和人的关系\",\n",
    "                parameters: zodToJsonSchema(relationExtractSchema)\n",
    "            }\n",
    "        }\n",
    "    ],\n",
    "    tool_choice: {\n",
    "        type: \"function\",\n",
    "        function: {\n",
    "           name: \"relationExtract\"\n",
    "        }\n",
    "    }\n",
    "})\n",
    "\n",
    "// Here, the prompt design, we use \"Think carefully, you have enough time to think rigorously\" to enhance the quality of the llm output, and then use \"If not provided clearly, please do not guess, you can only extract part of the information\" to reduce the fantasy problem of llm.\n",
    "const prompt = ChatPromptTemplate.fromMessages([\n",
    "    [\"system\", \"仔细思考，你有充足的时间进行严谨的思考，然后提取文中的相关信息，如果没有明确提供，请不要猜测，可以仅提取部分信息\"],\n",
    "    [\"human\", \"{input}\"]\n",
    "])\n",
    "\n",
    "const chain = prompt.pipe(modelExtract).pipe(new JsonOutputToolsParser())"
   ]
  },
  {
   "cell_type": "code",
   "execution_count": 30,
   "metadata": {},
   "outputs": [
    {
     "data": {
      "text/plain": [
       "[\n",
       "  {\n",
       "    type: \u001b[32m\"relationExtract\"\u001b[39m,\n",
       "    args: { people: [ { name: \u001b[32m\"小明\"\u001b[39m, age: \u001b[33m18\u001b[39m } ], relation: \u001b[32m\"小明的妈妈是小丽\"\u001b[39m }\n",
       "  }\n",
       "]"
      ]
     },
     "execution_count": 30,
     "metadata": {},
     "output_type": "execute_result"
    }
   ],
   "source": [
    "await chain.invoke({\n",
    "    input: \"小明现在 18 岁了，她妈妈是小丽\"\n",
    "})"
   ]
  },
  {
   "cell_type": "code",
   "execution_count": 31,
   "metadata": {},
   "outputs": [
    {
     "data": {
      "text/plain": [
       "[\n",
       "  {\n",
       "    type: \u001b[32m\"relationExtract\"\u001b[39m,\n",
       "    args: {\n",
       "      people: [\n",
       "        { name: \u001b[32m\"小明\"\u001b[39m, age: \u001b[33m18\u001b[39m },\n",
       "        { name: \u001b[32m\"小A\"\u001b[39m, age: \u001b[33m18\u001b[39m },\n",
       "        { name: \u001b[32m\"小B\"\u001b[39m, age: \u001b[33m18\u001b[39m }\n",
       "      ],\n",
       "      relation: \u001b[32m\"好朋友\"\u001b[39m\n",
       "    }\n",
       "  }\n",
       "]"
      ]
     },
     "execution_count": 31,
     "metadata": {},
     "output_type": "execute_result"
    }
   ],
   "source": [
    "await chain.invoke({\n",
    "    input: \"我是小明现在 18 岁了，我和小 A、小 B 是好朋友，都一样大\"\n",
    "})"
   ]
  },
  {
   "cell_type": "code",
   "execution_count": 32,
   "metadata": {},
   "outputs": [
    {
     "data": {
      "text/plain": [
       "[\n",
       "  {\n",
       "    type: \u001b[32m\"relationExtract\"\u001b[39m,\n",
       "    args: { people: [ { name: \u001b[32m\"小明\"\u001b[39m, age: \u001b[33m20\u001b[39m } ], relation: \u001b[32m\"\"\u001b[39m }\n",
       "  }\n",
       "]"
      ]
     },
     "execution_count": 32,
     "metadata": {},
     "output_type": "execute_result"
    }
   ],
   "source": [
    "await chain.invoke({\n",
    "    input: \"我是小明\"\n",
    "})"
   ]
  }
 ],
 "metadata": {
  "kernelspec": {
   "display_name": "Deno",
   "language": "typescript",
   "name": "deno"
  },
  "language_info": {
   "codemirror_mode": "typescript",
   "file_extension": ".ts",
   "mimetype": "text/x.typescript",
   "name": "typescript",
   "nbconvert_exporter": "script",
   "pygments_lexer": "typescript",
   "version": "5.4.5"
  }
 },
 "nbformat": 4,
 "nbformat_minor": 2
}
